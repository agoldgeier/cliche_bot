{
 "cells": [
  {
   "cell_type": "code",
   "execution_count": 1,
   "metadata": {
    "collapsed": true
   },
   "outputs": [],
   "source": [
    "# Takes in a set of lyrics (big string), outputs a rating of how cliche it is"
   ]
  },
  {
   "cell_type": "code",
   "execution_count": 2,
   "metadata": {
    "collapsed": false
   },
   "outputs": [],
   "source": [
    "from __future__ import division  # Python 2 users only\n",
    "import nltk, re, pprint\n",
    "from nltk import word_tokenize\n",
    "from nltk.stem.porter import *\n",
    "stemmer = PorterStemmer()\n"
   ]
  },
  {
   "cell_type": "code",
   "execution_count": 3,
   "metadata": {
    "collapsed": true
   },
   "outputs": [],
   "source": [
    "lyrics = \"Love me do. you know i love you\""
   ]
  },
  {
   "cell_type": "code",
   "execution_count": 6,
   "metadata": {
    "collapsed": false
   },
   "outputs": [],
   "source": [
    "# Tokenize\n",
    "tokens = word_tokenize(lyrics)\n",
    "# Stem\n",
    "stems = [stemmer.stem(token.lower()) for token in tokens if token.isalnum()]\n",
    "# Count\n",
    "fd = nltk.FreqDist(stems)"
   ]
  },
  {
   "cell_type": "code",
   "execution_count": 39,
   "metadata": {
    "collapsed": true
   },
   "outputs": [],
   "source": [
    "# Load up cliche scores\n",
    "import pandas as pd\n",
    "import numpy as np"
   ]
  },
  {
   "cell_type": "code",
   "execution_count": 40,
   "metadata": {
    "collapsed": false
   },
   "outputs": [],
   "source": [
    "[keys, counts] = zip(*fd.items()) # clever unzipping from http://stackoverflow.com/questions/12974474/how-to-unzip-a-list-of-tuples-into-individual-lists\n",
    "keys = np.asarray(keys)\n",
    "counts = np.asarray(counts)"
   ]
  },
  {
   "cell_type": "code",
   "execution_count": 51,
   "metadata": {
    "collapsed": true
   },
   "outputs": [],
   "source": [
    "df = pd.read_csv('cliche_words.tsv', sep='\\t')"
   ]
  },
  {
   "cell_type": "code",
   "execution_count": 52,
   "metadata": {
    "collapsed": false
   },
   "outputs": [
    {
     "data": {
      "text/html": [
       "<div>\n",
       "<table border=\"1\" class=\"dataframe\">\n",
       "  <thead>\n",
       "    <tr style=\"text-align: right;\">\n",
       "      <th></th>\n",
       "      <th>Unnamed: 0</th>\n",
       "      <th>stem</th>\n",
       "      <th>count</th>\n",
       "      <th>p_english</th>\n",
       "      <th>lyric_count</th>\n",
       "      <th>p_lyrics</th>\n",
       "      <th>cliche</th>\n",
       "    </tr>\n",
       "  </thead>\n",
       "  <tbody>\n",
       "    <tr>\n",
       "      <th>0</th>\n",
       "      <td>0</td>\n",
       "      <td>a</td>\n",
       "      <td>10144200</td>\n",
       "      <td>0.030759</td>\n",
       "      <td>974499</td>\n",
       "      <td>2.385306e-02</td>\n",
       "      <td>-0.254275</td>\n",
       "    </tr>\n",
       "    <tr>\n",
       "      <th>1</th>\n",
       "      <td>1</td>\n",
       "      <td>abandon</td>\n",
       "      <td>15323</td>\n",
       "      <td>0.000046</td>\n",
       "      <td>1455</td>\n",
       "      <td>3.561440e-05</td>\n",
       "      <td>-0.265890</td>\n",
       "    </tr>\n",
       "    <tr>\n",
       "      <th>2</th>\n",
       "      <td>2</td>\n",
       "      <td>abil</td>\n",
       "      <td>51476</td>\n",
       "      <td>0.000156</td>\n",
       "      <td>1</td>\n",
       "      <td>2.447725e-08</td>\n",
       "      <td>-8.760412</td>\n",
       "    </tr>\n",
       "    <tr>\n",
       "      <th>3</th>\n",
       "      <td>3</td>\n",
       "      <td>abl</td>\n",
       "      <td>103171</td>\n",
       "      <td>0.000313</td>\n",
       "      <td>1741</td>\n",
       "      <td>4.261489e-05</td>\n",
       "      <td>-1.993470</td>\n",
       "    </tr>\n",
       "    <tr>\n",
       "      <th>4</th>\n",
       "      <td>4</td>\n",
       "      <td>abort</td>\n",
       "      <td>18925</td>\n",
       "      <td>0.000057</td>\n",
       "      <td>1</td>\n",
       "      <td>2.447725e-08</td>\n",
       "      <td>-7.759780</td>\n",
       "    </tr>\n",
       "  </tbody>\n",
       "</table>\n",
       "</div>"
      ],
      "text/plain": [
       "   Unnamed: 0     stem     count  p_english  lyric_count      p_lyrics  \\\n",
       "0           0        a  10144200   0.030759       974499  2.385306e-02   \n",
       "1           1  abandon     15323   0.000046         1455  3.561440e-05   \n",
       "2           2     abil     51476   0.000156            1  2.447725e-08   \n",
       "3           3      abl    103171   0.000313         1741  4.261489e-05   \n",
       "4           4    abort     18925   0.000057            1  2.447725e-08   \n",
       "\n",
       "     cliche  \n",
       "0 -0.254275  \n",
       "1 -0.265890  \n",
       "2 -8.760412  \n",
       "3 -1.993470  \n",
       "4 -7.759780  "
      ]
     },
     "execution_count": 52,
     "metadata": {},
     "output_type": "execute_result"
    }
   ],
   "source": [
    "df.head()"
   ]
  },
  {
   "cell_type": "code",
   "execution_count": 53,
   "metadata": {
    "collapsed": false
   },
   "outputs": [
    {
     "data": {
      "text/html": [
       "<div>\n",
       "<table border=\"1\" class=\"dataframe\">\n",
       "  <thead>\n",
       "    <tr style=\"text-align: right;\">\n",
       "      <th></th>\n",
       "      <th>Unnamed: 0</th>\n",
       "      <th>stem</th>\n",
       "      <th>count</th>\n",
       "      <th>p_english</th>\n",
       "      <th>lyric_count</th>\n",
       "      <th>p_lyrics</th>\n",
       "      <th>cliche</th>\n",
       "    </tr>\n",
       "  </thead>\n",
       "  <tbody>\n",
       "    <tr>\n",
       "      <th>979</th>\n",
       "      <td>979</td>\n",
       "      <td>do</td>\n",
       "      <td>2573587</td>\n",
       "      <td>0.007804</td>\n",
       "      <td>470946</td>\n",
       "      <td>0.011527</td>\n",
       "      <td>0.390146</td>\n",
       "    </tr>\n",
       "    <tr>\n",
       "      <th>1628</th>\n",
       "      <td>1628</td>\n",
       "      <td>i</td>\n",
       "      <td>3978265</td>\n",
       "      <td>0.012063</td>\n",
       "      <td>2078808</td>\n",
       "      <td>0.050884</td>\n",
       "      <td>1.439407</td>\n",
       "    </tr>\n",
       "    <tr>\n",
       "      <th>1809</th>\n",
       "      <td>1809</td>\n",
       "      <td>know</td>\n",
       "      <td>892535</td>\n",
       "      <td>0.002706</td>\n",
       "      <td>273137</td>\n",
       "      <td>0.006686</td>\n",
       "      <td>0.904366</td>\n",
       "    </tr>\n",
       "    <tr>\n",
       "      <th>1927</th>\n",
       "      <td>1927</td>\n",
       "      <td>love</td>\n",
       "      <td>180503</td>\n",
       "      <td>0.000547</td>\n",
       "      <td>298043</td>\n",
       "      <td>0.007295</td>\n",
       "      <td>2.589949</td>\n",
       "    </tr>\n",
       "    <tr>\n",
       "      <th>1989</th>\n",
       "      <td>1989</td>\n",
       "      <td>me</td>\n",
       "      <td>709623</td>\n",
       "      <td>0.002152</td>\n",
       "      <td>771755</td>\n",
       "      <td>0.018890</td>\n",
       "      <td>2.172392</td>\n",
       "    </tr>\n",
       "    <tr>\n",
       "      <th>3709</th>\n",
       "      <td>3709</td>\n",
       "      <td>you</td>\n",
       "      <td>3081151</td>\n",
       "      <td>0.009343</td>\n",
       "      <td>1744257</td>\n",
       "      <td>0.042695</td>\n",
       "      <td>1.519484</td>\n",
       "    </tr>\n",
       "  </tbody>\n",
       "</table>\n",
       "</div>"
      ],
      "text/plain": [
       "      Unnamed: 0  stem    count  p_english  lyric_count  p_lyrics    cliche\n",
       "979          979    do  2573587   0.007804       470946  0.011527  0.390146\n",
       "1628        1628     i  3978265   0.012063      2078808  0.050884  1.439407\n",
       "1809        1809  know   892535   0.002706       273137  0.006686  0.904366\n",
       "1927        1927  love   180503   0.000547       298043  0.007295  2.589949\n",
       "1989        1989    me   709623   0.002152       771755  0.018890  2.172392\n",
       "3709        3709   you  3081151   0.009343      1744257  0.042695  1.519484"
      ]
     },
     "execution_count": 53,
     "metadata": {},
     "output_type": "execute_result"
    }
   ],
   "source": [
    "df[df.stem.isin(keys)]"
   ]
  },
  {
   "cell_type": "code",
   "execution_count": 66,
   "metadata": {
    "collapsed": false
   },
   "outputs": [],
   "source": [
    "avg_cliche = 0\n",
    "for stem in stems:\n",
    "    avg_cliche = avg_cliche + df.cliche[df.stem==stem].iloc[0]\n",
    "avg_cliche = avg_cliche / len(stems)"
   ]
  },
  {
   "cell_type": "code",
   "execution_count": 67,
   "metadata": {
    "collapsed": false
   },
   "outputs": [
    {
     "data": {
      "text/plain": [
       "1.6406472444265001"
      ]
     },
     "execution_count": 67,
     "metadata": {},
     "output_type": "execute_result"
    }
   ],
   "source": [
    "avg_cliche"
   ]
  },
  {
   "cell_type": "code",
   "execution_count": 65,
   "metadata": {
    "collapsed": false
   },
   "outputs": [
    {
     "data": {
      "text/plain": [
       "0.390146121821"
      ]
     },
     "execution_count": 65,
     "metadata": {},
     "output_type": "execute_result"
    }
   ],
   "source": []
  },
  {
   "cell_type": "code",
   "execution_count": 114,
   "metadata": {
    "collapsed": true
   },
   "outputs": [],
   "source": [
    "# Put all that in a function!\n",
    "def get_cliche_rating(lyrics):\n",
    "    # Lyrics is a string\n",
    "    \n",
    "    # Tokenize, stem, count\n",
    "    tokens = word_tokenize(lyrics)\n",
    "    stems = [stemmer.stem(token.lower()) for token in tokens if token.isalnum()]\n",
    "    fd = nltk.FreqDist(stems)\n",
    "    \n",
    "    # Cast into format we can work with\n",
    "    [keys, counts] = zip(*fd.items()) # clever unzipping from http://stackoverflow.com/questions/12974474/how-to-unzip-a-list-of-tuples-into-individual-lists\n",
    "    keys = np.asarray(keys)\n",
    "    counts = np.asarray(counts)\n",
    "    \n",
    "    # calculate weighted average of cliche ratings\n",
    "    avg_cliche = 0\n",
    "    for stem in stems:\n",
    "        sub_df = df.cliche[df.stem==stem]\n",
    "        if sub_df.empty:\n",
    "            continue\n",
    "        avg_cliche = avg_cliche + df.cliche[df.stem==stem].iloc[0]\n",
    "    avg_cliche = avg_cliche / len(stems)\n",
    "    return avg_cliche"
   ]
  },
  {
   "cell_type": "code",
   "execution_count": 115,
   "metadata": {
    "collapsed": false
   },
   "outputs": [
    {
     "data": {
      "text/plain": [
       "1.6406472444265001"
      ]
     },
     "execution_count": 115,
     "metadata": {},
     "output_type": "execute_result"
    }
   ],
   "source": [
    "get_cliche_rating(lyrics)"
   ]
  },
  {
   "cell_type": "code",
   "execution_count": 118,
   "metadata": {
    "collapsed": false
   },
   "outputs": [
    {
     "data": {
      "text/plain": [
       "-0.56329072423536386"
      ]
     },
     "execution_count": 118,
     "metadata": {},
     "output_type": "execute_result"
    }
   ],
   "source": [
    "get_cliche_rating(\"\"\"\n",
    "My sisters and I\n",
    "Have this wish before we die\n",
    "And it may sound strange\n",
    "As if our minds are deranged\n",
    "Please don't ask us why\n",
    "Beneath the sheltering sky\n",
    "We have this strange obsession\n",
    "You have the means in your possession\n",
    "We want our tea in the Sahara with you\n",
    "We want our tea in the Sahara with you\n",
    "The young man agreed\n",
    "He would satisfy their need\n",
    "So they danced for his pleasure\n",
    "With a joy you could not measure\n",
    "They would wait for him here\n",
    "The same place every year\n",
    "Beneath the sheltering sky\n",
    "Across the desert he would fly\n",
    "Tea in the Sahara with you\n",
    "Tea in the Sahara with you\n",
    "The sky turned to black\n",
    "Would he ever come back?\n",
    "They would climb a high dune\n",
    "They would pray to the moon\n",
    "But he'd never return\n",
    "So the sisters would burn\n",
    "As their eyes searched the land\n",
    "With their cups full of sand\n",
    "Tea in the Sahara with you\n",
    "Tea in the Sahara with you\n",
    "Tea in the Sahara with you\n",
    "Tea in the Sahara with you\n",
    "\"\"\")"
   ]
  },
  {
   "cell_type": "code",
   "execution_count": null,
   "metadata": {
    "collapsed": true
   },
   "outputs": [],
   "source": []
  }
 ],
 "metadata": {
  "kernelspec": {
   "display_name": "Python 2",
   "language": "python",
   "name": "python2"
  },
  "language_info": {
   "codemirror_mode": {
    "name": "ipython",
    "version": 2
   },
   "file_extension": ".py",
   "mimetype": "text/x-python",
   "name": "python",
   "nbconvert_exporter": "python",
   "pygments_lexer": "ipython2",
   "version": "2.7.10"
  }
 },
 "nbformat": 4,
 "nbformat_minor": 0
}
